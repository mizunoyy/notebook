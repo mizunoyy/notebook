{
 "cells": [
  {
   "cell_type": "code",
   "execution_count": 1,
   "metadata": {},
   "outputs": [
    {
     "name": "stdout",
     "output_type": "stream",
     "text": [
      "Requirement already satisfied: mmsegmentation in c:\\users\\mokom\\anaconda3\\envs\\data_science\\lib\\site-packages (0.29.1)\n",
      "Requirement already satisfied: prettytable in c:\\users\\mokom\\anaconda3\\envs\\data_science\\lib\\site-packages (from mmsegmentation) (0.7.2)\n"
     ]
    },
    {
     "name": "stderr",
     "output_type": "stream",
     "text": [
      "WARNING: Ignoring invalid distribution -ywin32 (c:\\users\\mokom\\anaconda3\\envs\\data_science\\lib\\site-packages)\n"
     ]
    },
    {
     "name": "stdout",
     "output_type": "stream",
     "text": [
      "Requirement already satisfied: packaging in c:\\users\\mokom\\anaconda3\\envs\\data_science\\lib\\site-packages (from mmsegmentation) (21.0)\n",
      "Requirement already satisfied: mmcls>=0.20.1 in c:\\users\\mokom\\anaconda3\\envs\\data_science\\lib\\site-packages (from mmsegmentation) (0.25.0)\n",
      "Requirement already satisfied: numpy in c:\\users\\mokom\\anaconda3\\envs\\data_science\\lib\\site-packages (from mmsegmentation) (1.18.5)\n",
      "Requirement already satisfied: matplotlib in c:\\users\\mokom\\anaconda3\\envs\\data_science\\lib\\site-packages (from mmsegmentation) (3.3.4)\n",
      "Requirement already satisfied: pillow>=6.2.0 in c:\\users\\mokom\\anaconda3\\envs\\data_science\\lib\\site-packages (from matplotlib->mmsegmentation) (8.3.1)\n",
      "Requirement already satisfied: cycler>=0.10 in c:\\users\\mokom\\anaconda3\\envs\\data_science\\lib\\site-packages (from matplotlib->mmsegmentation) (0.10.0)\n",
      "Requirement already satisfied: kiwisolver>=1.0.1 in c:\\users\\mokom\\anaconda3\\envs\\data_science\\lib\\site-packages (from matplotlib->mmsegmentation) (1.3.1)\n",
      "Requirement already satisfied: python-dateutil>=2.1 in c:\\users\\mokom\\anaconda3\\envs\\data_science\\lib\\site-packages (from matplotlib->mmsegmentation) (2.8.2)\n",
      "Requirement already satisfied: pyparsing!=2.0.4,!=2.1.2,!=2.1.6,>=2.0.3 in c:\\users\\mokom\\anaconda3\\envs\\data_science\\lib\\site-packages (from matplotlib->mmsegmentation) (2.4.7)\n",
      "Requirement already satisfied: six in c:\\users\\mokom\\anaconda3\\envs\\data_science\\lib\\site-packages (from cycler>=0.10->matplotlib->mmsegmentation) (1.16.0)\n"
     ]
    },
    {
     "name": "stderr",
     "output_type": "stream",
     "text": [
      "WARNING: Ignoring invalid distribution -ywin32 (c:\\users\\mokom\\anaconda3\\envs\\data_science\\lib\\site-packages)\n",
      "WARNING: Ignoring invalid distribution -ywin32 (c:\\users\\mokom\\anaconda3\\envs\\data_science\\lib\\site-packages)\n",
      "WARNING: Ignoring invalid distribution -ywin32 (c:\\users\\mokom\\anaconda3\\envs\\data_science\\lib\\site-packages)\n",
      "WARNING: Ignoring invalid distribution -ywin32 (c:\\users\\mokom\\anaconda3\\envs\\data_science\\lib\\site-packages)\n"
     ]
    },
    {
     "name": "stdout",
     "output_type": "stream",
     "text": [
      "Requirement already satisfied: mmcv-full in c:\\users\\mokom\\anaconda3\\envs\\data_science\\lib\\site-packages (1.7.0)\n",
      "Requirement already satisfied: packaging in c:\\users\\mokom\\anaconda3\\envs\\data_science\\lib\\site-packages (from mmcv-full) (21.0)\n",
      "Requirement already satisfied: addict in c:\\users\\mokom\\anaconda3\\envs\\data_science\\lib\\site-packages (from mmcv-full) (2.4.0)\n",
      "Requirement already satisfied: numpy in c:\\users\\mokom\\anaconda3\\envs\\data_science\\lib\\site-packages (from mmcv-full) (1.18.5)\n",
      "Requirement already satisfied: regex in c:\\users\\mokom\\anaconda3\\envs\\data_science\\lib\\site-packages (from mmcv-full) (2022.10.31)\n",
      "Requirement already satisfied: Pillow in c:\\users\\mokom\\anaconda3\\envs\\data_science\\lib\\site-packages (from mmcv-full) (8.3.1)\n",
      "Requirement already satisfied: yapf in c:\\users\\mokom\\anaconda3\\envs\\data_science\\lib\\site-packages (from mmcv-full) (0.32.0)\n",
      "Requirement already satisfied: pyyaml in c:\\users\\mokom\\anaconda3\\envs\\data_science\\lib\\site-packages (from mmcv-full) (5.4.1)\n",
      "Requirement already satisfied: pyparsing>=2.0.2 in c:\\users\\mokom\\anaconda3\\envs\\data_science\\lib\\site-packages (from packaging->mmcv-full) (2.4.7)\n"
     ]
    },
    {
     "name": "stderr",
     "output_type": "stream",
     "text": [
      "WARNING: Ignoring invalid distribution -ywin32 (c:\\users\\mokom\\anaconda3\\envs\\data_science\\lib\\site-packages)\n",
      "WARNING: Ignoring invalid distribution -ywin32 (c:\\users\\mokom\\anaconda3\\envs\\data_science\\lib\\site-packages)\n",
      "WARNING: Ignoring invalid distribution -ywin32 (c:\\users\\mokom\\anaconda3\\envs\\data_science\\lib\\site-packages)\n",
      "WARNING: Ignoring invalid distribution -ywin32 (c:\\users\\mokom\\anaconda3\\envs\\data_science\\lib\\site-packages)\n",
      "WARNING: Ignoring invalid distribution -ywin32 (c:\\users\\mokom\\anaconda3\\envs\\data_science\\lib\\site-packages)\n"
     ]
    }
   ],
   "source": [
    "!pip install mmsegmentation\n",
    "!pip install mmcv-full"
   ]
  },
  {
   "cell_type": "code",
   "execution_count": 2,
   "metadata": {},
   "outputs": [
    {
     "name": "stderr",
     "output_type": "stream",
     "text": [
      "c:\\Users\\mokom\\Anaconda3\\envs\\data_science\\lib\\site-packages\\mmcv\\__init__.py:21: UserWarning: On January 1, 2023, MMCV will release v2.0.0, in which it will remove components related to the training process and add a data transformation module. In addition, it will rename the package names mmcv to mmcv-lite and mmcv-full to mmcv. See https://github.com/open-mmlab/mmcv/blob/master/docs/en/compatibility.md for more details.\n",
      "  'On January 1, 2023, MMCV will release v2.0.0, in which it will remove '\n"
     ]
    }
   ],
   "source": [
    "\n",
    "import cv2\n",
    "import numpy as np\n",
    "import random\n",
    "from pathlib import Path\n",
    "import matplotlib.pyplot as plt\n",
    "from mmseg.apis import init_segmentor, inference_segmentor\n",
    "from sklearn.manifold import TSNE\n",
    "import torchvision\n",
    "import mmcv"
   ]
  },
  {
   "cell_type": "code",
   "execution_count": 3,
   "metadata": {},
   "outputs": [],
   "source": [
    "\n",
    "config_file = 'https://github.com/open-mmlab/mmsegmentation/blob/master/configs/deeplabv3plus/deeplabv3plus_r50-d8_512x1024_40k_cityscapes.py'\n",
    "checkpoint_file = 'https://download.openmmlab.com/mmsegmentation/v0.5/deeplabv3plus/deeplabv3plus_r50-d8_512x1024_40k_cityscapes/deeplabv3plus_r50-d8_512x1024_40k_cityscapes_20200605_094610-d222ffcd.pth'"
   ]
  },
  {
   "cell_type": "code",
   "execution_count": 4,
   "metadata": {},
   "outputs": [
    {
     "name": "stdout",
     "output_type": "stream",
     "text": [
      "Requirement already satisfied: wget in c:\\users\\mokom\\anaconda3\\envs\\data_science\\lib\\site-packages (3.2)\n"
     ]
    },
    {
     "name": "stderr",
     "output_type": "stream",
     "text": [
      "WARNING: Ignoring invalid distribution -ywin32 (c:\\users\\mokom\\anaconda3\\envs\\data_science\\lib\\site-packages)\n",
      "WARNING: Ignoring invalid distribution -ywin32 (c:\\users\\mokom\\anaconda3\\envs\\data_science\\lib\\site-packages)\n",
      "WARNING: Ignoring invalid distribution -ywin32 (c:\\users\\mokom\\anaconda3\\envs\\data_science\\lib\\site-packages)\n",
      "WARNING: Ignoring invalid distribution -ywin32 (c:\\users\\mokom\\anaconda3\\envs\\data_science\\lib\\site-packages)\n",
      "WARNING: Ignoring invalid distribution -ywin32 (c:\\users\\mokom\\anaconda3\\envs\\data_science\\lib\\site-packages)\n"
     ]
    },
    {
     "name": "stdout",
     "output_type": "stream",
     "text": [
      "\n",
      "Saved under deeplabv3plus_r50-d8_512x1024_40k_cityscapes (1).py\n",
      "\n",
      "Saved under deeplabv3plus_r50-d8_512x1024_40k_cityscapes_20200605_094610-d222ffcd (1).pth\n"
     ]
    }
   ],
   "source": [
    "!pip install wget\n",
    "# google colaboで実行する場合は”wget $config_file”でOK\n",
    "!python -m wget $config_file\n",
    "!python -m wget $checkpoint_file"
   ]
  },
  {
   "cell_type": "code",
   "execution_count": 5,
   "metadata": {},
   "outputs": [
    {
     "name": "stderr",
     "output_type": "stream",
     "text": [
      "c:\\Users\\mokom\\Anaconda3\\envs\\data_science\\lib\\site-packages\\mmseg\\models\\losses\\cross_entropy_loss.py:236: UserWarning: Default ``avg_non_ignore`` is False, if you would like to ignore the certain label and average loss over non-ignore labels, which is the same with PyTorch official cross_entropy, set ``avg_non_ignore=True``.\n",
      "  'Default ``avg_non_ignore`` is False, if you would like to '\n"
     ]
    },
    {
     "name": "stdout",
     "output_type": "stream",
     "text": [
      "load checkpoint from local path: ./deeplabv3plus_r50-d8_512x1024_40k_cityscapes_20200605_094610-d222ffcd.pth\n"
     ]
    },
    {
     "name": "stderr",
     "output_type": "stream",
     "text": [
      "c:\\Users\\mokom\\Anaconda3\\envs\\data_science\\lib\\site-packages\\torch\\nn\\functional.py:718: UserWarning: Named tensors and all their associated APIs are an experimental feature and subject to change. Please do not use them for anything important until they are released as stable. (Triggered internally at  ..\\c10/core/TensorImpl.h:1156.)\n",
      "  return torch.max_pool2d(input, kernel_size, stride, padding, dilation, ceil_mode)\n"
     ]
    }
   ],
   "source": [
    "mmseg_path = Path('../../mmsegmentation')\n",
    "config_file_path = mmseg_path / 'configs/deeplabv3plus/deeplabv3plus_r50-d8_512x1024_40k_cityscapes.py'\n",
    "checkpoint_file_path = './deeplabv3plus_r50-d8_512x1024_40k_cityscapes_20200605_094610-d222ffcd.pth'\n",
    "cfg = mmcv.Config.fromfile(config_file_path)\n",
    "\n",
    "# avoid TypeError: init_segmentor() got an unexpected keyword argument 'norm_cfg'\n",
    "cfg.norm_cfg = dict(type='BN', requires_grad=True)\n",
    "cfg.model.backbone.norm_cfg = cfg.norm_cfg\n",
    "cfg.model.decode_head.norm_cfg = cfg.norm_cfg\n",
    "cfg.model.auxiliary_head.norm_cfg = cfg.norm_cfg\n",
    "model = init_segmentor(cfg, checkpoint_file_path, device='cpu')\n",
    "\n",
    "img = 'test.JPEG'\n",
    "result = inference_segmentor(model, img)\n",
    "# model.show_result(img, result, show=True)"
   ]
  },
  {
   "cell_type": "code",
   "execution_count": 6,
   "metadata": {},
   "outputs": [],
   "source": [
    "def middle_layer_output(target, inputs):\n",
    "    feature = None\n",
    "\n",
    "    def forward_hook(module, inputs, outputs):\n",
    "        global features\n",
    "        features = outputs.detach().clone()\n",
    "\n",
    "    handle = target.register_forward_hook(forward_hook)\n",
    "    model.eval()\n",
    "    inference_segmentor(model, inputs)\n",
    "    handle.remove()\n",
    "    return features"
   ]
  },
  {
   "cell_type": "code",
   "execution_count": 7,
   "metadata": {},
   "outputs": [
    {
     "data": {
      "text/plain": [
       "tensor([[[[ 0.0413,  0.0282,  0.0322,  ...,  0.0251,  0.0164,  0.0279],\n",
       "          [ 0.0436,  0.0229,  0.0365,  ...,  0.0221,  0.0101,  0.0261],\n",
       "          [ 0.0401,  0.0246,  0.0351,  ...,  0.0294,  0.0168,  0.0293],\n",
       "          ...,\n",
       "          [ 0.0241,  0.0201,  0.0254,  ...,  0.0296,  0.0280,  0.0334],\n",
       "          [ 0.0261,  0.0204,  0.0220,  ...,  0.0323,  0.0271,  0.0309],\n",
       "          [ 0.0222,  0.0175,  0.0217,  ...,  0.0259,  0.0178,  0.0254]],\n",
       "\n",
       "         [[ 0.0320,  0.0264,  0.0326,  ...,  0.0314,  0.0302,  0.0330],\n",
       "          [ 0.0340,  0.0345,  0.0351,  ...,  0.0264,  0.0272,  0.0288],\n",
       "          [ 0.0342,  0.0298,  0.0356,  ...,  0.0284,  0.0292,  0.0278],\n",
       "          ...,\n",
       "          [ 0.0357,  0.0351,  0.0384,  ...,  0.0469,  0.0461,  0.0438],\n",
       "          [ 0.0382,  0.0344,  0.0373,  ...,  0.0335,  0.0359,  0.0351],\n",
       "          [ 0.0383,  0.0380,  0.0399,  ...,  0.0337,  0.0380,  0.0346]],\n",
       "\n",
       "         [[ 0.0437,  0.0390,  0.0484,  ...,  0.0461,  0.0375,  0.0451],\n",
       "          [ 0.0562,  0.0455,  0.0515,  ...,  0.0436,  0.0392,  0.0488],\n",
       "          [ 0.0502,  0.0427,  0.0483,  ...,  0.0456,  0.0455,  0.0518],\n",
       "          ...,\n",
       "          [ 0.0383,  0.0344,  0.0381,  ...,  0.0463,  0.0459,  0.0538],\n",
       "          [ 0.0343,  0.0349,  0.0373,  ...,  0.0448,  0.0445,  0.0483],\n",
       "          [ 0.0336,  0.0343,  0.0380,  ...,  0.0429,  0.0376,  0.0494]],\n",
       "\n",
       "         ...,\n",
       "\n",
       "         [[ 0.0727,  0.0519,  0.0711,  ...,  0.0592,  0.0526,  0.0617],\n",
       "          [ 0.0773,  0.0331,  0.0716,  ...,  0.0533,  0.0442,  0.0593],\n",
       "          [ 0.0741,  0.0609,  0.0726,  ...,  0.0629,  0.0574,  0.0636],\n",
       "          ...,\n",
       "          [ 0.0651,  0.0559,  0.0641,  ...,  0.0867,  0.0819,  0.0826],\n",
       "          [ 0.0647,  0.0585,  0.0674,  ...,  0.0818,  0.0779,  0.0787],\n",
       "          [ 0.0507,  0.0543,  0.0608,  ...,  0.0815,  0.0715,  0.0756]],\n",
       "\n",
       "         [[-0.0266, -0.0219, -0.0224,  ..., -0.0137, -0.0121, -0.0191],\n",
       "          [-0.0361, -0.0225, -0.0318,  ..., -0.0114, -0.0050, -0.0220],\n",
       "          [-0.0335, -0.0201, -0.0348,  ..., -0.0159, -0.0053, -0.0199],\n",
       "          ...,\n",
       "          [-0.0223, -0.0249, -0.0245,  ..., -0.0271, -0.0297, -0.0244],\n",
       "          [-0.0341, -0.0261, -0.0322,  ..., -0.0267, -0.0290, -0.0228],\n",
       "          [-0.0241, -0.0307, -0.0331,  ..., -0.0339, -0.0276, -0.0280]],\n",
       "\n",
       "         [[ 0.0243,  0.0265,  0.0254,  ...,  0.0265,  0.0308,  0.0221],\n",
       "          [ 0.0220,  0.0310,  0.0202,  ...,  0.0225,  0.0269,  0.0240],\n",
       "          [ 0.0272,  0.0300,  0.0304,  ...,  0.0292,  0.0352,  0.0228],\n",
       "          ...,\n",
       "          [ 0.0445,  0.0278,  0.0367,  ...,  0.0499,  0.0502,  0.0580],\n",
       "          [ 0.0328,  0.0283,  0.0328,  ...,  0.0508,  0.0442,  0.0541],\n",
       "          [ 0.0395,  0.0345,  0.0434,  ...,  0.0476,  0.0466,  0.0513]]]])"
      ]
     },
     "execution_count": 7,
     "metadata": {},
     "output_type": "execute_result"
    }
   ],
   "source": [
    "target = model.backbone.layer4[-1].conv3\n",
    "middle_layer_output(target, img)"
   ]
  },
  {
   "cell_type": "code",
   "execution_count": null,
   "metadata": {},
   "outputs": [],
   "source": []
  }
 ],
 "metadata": {
  "kernelspec": {
   "display_name": "Python 3.6.8 ('data_science')",
   "language": "python",
   "name": "python3"
  },
  "language_info": {
   "codemirror_mode": {
    "name": "ipython",
    "version": 3
   },
   "file_extension": ".py",
   "mimetype": "text/x-python",
   "name": "python",
   "nbconvert_exporter": "python",
   "pygments_lexer": "ipython3",
   "version": "3.6.8"
  },
  "orig_nbformat": 4,
  "vscode": {
   "interpreter": {
    "hash": "8d0aa325ff8773435e7ab7c54a59a079ef2b68ca3ca76697040221ff50f8c1a5"
   }
  }
 },
 "nbformat": 4,
 "nbformat_minor": 2
}
