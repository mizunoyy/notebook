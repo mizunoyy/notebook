{
 "cells": [
  {
   "cell_type": "code",
   "execution_count": 6,
   "metadata": {},
   "outputs": [
    {
     "name": "stderr",
     "output_type": "stream",
     "text": [
      "WARNING: Ignoring invalid distribution -ywin32 (c:\\users\\mokom\\anaconda3\\envs\\data_science\\lib\\site-packages)\n",
      "WARNING: Ignoring invalid distribution -ywin32 (c:\\users\\mokom\\anaconda3\\envs\\data_science\\lib\\site-packages)\n",
      "WARNING: Skipping mmseg as it is not installed.\n"
     ]
    },
    {
     "name": "stdout",
     "output_type": "stream",
     "text": [
      "Requirement already satisfied: mmsegmentation in c:\\users\\mokom\\anaconda3\\envs\\data_science\\lib\\site-packages (0.29.1)\n",
      "Requirement already satisfied: prettytable in c:\\users\\mokom\\anaconda3\\envs\\data_science\\lib\\site-packages (from mmsegmentation) (0.7.2)\n",
      "Requirement already satisfied: mmcls>=0.20.1 in c:\\users\\mokom\\anaconda3\\envs\\data_science\\lib\\site-packages (from mmsegmentation) (0.25.0)\n",
      "Requirement already satisfied: packaging in c:\\users\\mokom\\anaconda3\\envs\\data_science\\lib\\site-packages (from mmsegmentation) (21.0)\n",
      "Requirement already satisfied: numpy in c:\\users\\mokom\\anaconda3\\envs\\data_science\\lib\\site-packages (from mmsegmentation) (1.18.5)\n",
      "Requirement already satisfied: matplotlib in c:\\users\\mokom\\anaconda3\\envs\\data_science\\lib\\site-packages (from mmsegmentation) (3.3.4)\n",
      "Requirement already satisfied: cycler>=0.10 in c:\\users\\mokom\\anaconda3\\envs\\data_science\\lib\\site-packages (from matplotlib->mmsegmentation) (0.10.0)\n",
      "Requirement already satisfied: pillow>=6.2.0 in c:\\users\\mokom\\anaconda3\\envs\\data_science\\lib\\site-packages (from matplotlib->mmsegmentation) (8.3.1)\n",
      "Requirement already satisfied: kiwisolver>=1.0.1 in c:\\users\\mokom\\anaconda3\\envs\\data_science\\lib\\site-packages (from matplotlib->mmsegmentation) (1.3.1)\n",
      "Requirement already satisfied: pyparsing!=2.0.4,!=2.1.2,!=2.1.6,>=2.0.3 in c:\\users\\mokom\\anaconda3\\envs\\data_science\\lib\\site-packages (from matplotlib->mmsegmentation) (2.4.7)\n",
      "Requirement already satisfied: python-dateutil>=2.1 in c:\\users\\mokom\\anaconda3\\envs\\data_science\\lib\\site-packages (from matplotlib->mmsegmentation) (2.8.2)\n",
      "Requirement already satisfied: six in c:\\users\\mokom\\anaconda3\\envs\\data_science\\lib\\site-packages (from cycler>=0.10->matplotlib->mmsegmentation) (1.16.0)\n"
     ]
    },
    {
     "name": "stderr",
     "output_type": "stream",
     "text": [
      "WARNING: Ignoring invalid distribution -ywin32 (c:\\users\\mokom\\anaconda3\\envs\\data_science\\lib\\site-packages)\n",
      "WARNING: Ignoring invalid distribution -ywin32 (c:\\users\\mokom\\anaconda3\\envs\\data_science\\lib\\site-packages)\n",
      "WARNING: Ignoring invalid distribution -ywin32 (c:\\users\\mokom\\anaconda3\\envs\\data_science\\lib\\site-packages)\n",
      "WARNING: Ignoring invalid distribution -ywin32 (c:\\users\\mokom\\anaconda3\\envs\\data_science\\lib\\site-packages)\n",
      "WARNING: Ignoring invalid distribution -ywin32 (c:\\users\\mokom\\anaconda3\\envs\\data_science\\lib\\site-packages)\n"
     ]
    },
    {
     "name": "stdout",
     "output_type": "stream",
     "text": [
      "Collecting mmcv-full\n",
      "  Downloading mmcv-full-1.7.0.tar.gz (593 kB)\n",
      "  Preparing metadata (setup.py): started\n",
      "  Preparing metadata (setup.py): finished with status 'done'\n",
      "Collecting addict\n",
      "  Downloading addict-2.4.0-py3-none-any.whl (3.8 kB)\n",
      "Requirement already satisfied: numpy in c:\\users\\mokom\\anaconda3\\envs\\data_science\\lib\\site-packages (from mmcv-full) (1.18.5)\n",
      "Requirement already satisfied: packaging in c:\\users\\mokom\\anaconda3\\envs\\data_science\\lib\\site-packages (from mmcv-full) (21.0)\n",
      "Requirement already satisfied: Pillow in c:\\users\\mokom\\anaconda3\\envs\\data_science\\lib\\site-packages (from mmcv-full) (8.3.1)\n",
      "Requirement already satisfied: pyyaml in c:\\users\\mokom\\anaconda3\\envs\\data_science\\lib\\site-packages (from mmcv-full) (5.4.1)\n",
      "Collecting yapf\n",
      "  Downloading yapf-0.32.0-py2.py3-none-any.whl (190 kB)\n",
      "Requirement already satisfied: regex in c:\\users\\mokom\\anaconda3\\envs\\data_science\\lib\\site-packages (from mmcv-full) (2022.10.31)\n",
      "Requirement already satisfied: pyparsing>=2.0.2 in c:\\users\\mokom\\anaconda3\\envs\\data_science\\lib\\site-packages (from packaging->mmcv-full) (2.4.7)\n",
      "Building wheels for collected packages: mmcv-full\n",
      "  Building wheel for mmcv-full (setup.py): started\n",
      "  Building wheel for mmcv-full (setup.py): still running...\n",
      "  Building wheel for mmcv-full (setup.py): still running...\n",
      "  Building wheel for mmcv-full (setup.py): still running...\n",
      "  Building wheel for mmcv-full (setup.py): still running...\n",
      "  Building wheel for mmcv-full (setup.py): still running...\n",
      "  Building wheel for mmcv-full (setup.py): still running...\n",
      "  Building wheel for mmcv-full (setup.py): finished with status 'done'\n",
      "  Created wheel for mmcv-full: filename=mmcv_full-1.7.0-cp36-cp36m-win_amd64.whl size=1286386 sha256=ce70d72760cd75809f2d78d7d5732bd5a0ddc2fa18c782c9c5633b7b2e27edb5\n",
      "  Stored in directory: c:\\users\\mokom\\appdata\\local\\pip\\cache\\wheels\\4d\\34\\4d\\a833f0a2b929e51d67f69d92f965279f350b57fc150542a880\n",
      "Successfully built mmcv-full\n",
      "Installing collected packages: yapf, addict, mmcv-full\n",
      "Successfully installed addict-2.4.0 mmcv-full-1.7.0 yapf-0.32.0\n"
     ]
    },
    {
     "name": "stderr",
     "output_type": "stream",
     "text": [
      "WARNING: Ignoring invalid distribution -ywin32 (c:\\users\\mokom\\anaconda3\\envs\\data_science\\lib\\site-packages)\n",
      "WARNING: Ignoring invalid distribution -ywin32 (c:\\users\\mokom\\anaconda3\\envs\\data_science\\lib\\site-packages)\n",
      "WARNING: Ignoring invalid distribution -ywin32 (c:\\users\\mokom\\anaconda3\\envs\\data_science\\lib\\site-packages)\n",
      "WARNING: Ignoring invalid distribution -ywin32 (c:\\users\\mokom\\anaconda3\\envs\\data_science\\lib\\site-packages)\n",
      "WARNING: Ignoring invalid distribution -ywin32 (c:\\users\\mokom\\anaconda3\\envs\\data_science\\lib\\site-packages)\n",
      "WARNING: Ignoring invalid distribution -ywin32 (c:\\users\\mokom\\anaconda3\\envs\\data_science\\lib\\site-packages)\n",
      "WARNING: Ignoring invalid distribution -ywin32 (c:\\users\\mokom\\anaconda3\\envs\\data_science\\lib\\site-packages)\n",
      "WARNING: Ignoring invalid distribution -ywin32 (c:\\users\\mokom\\anaconda3\\envs\\data_science\\lib\\site-packages)\n"
     ]
    },
    {
     "name": "stdout",
     "output_type": "stream",
     "text": [
      "Requirement already satisfied: sklearn in c:\\users\\mokom\\anaconda3\\envs\\data_science\\lib\\site-packages (0.0)\n",
      "Requirement already satisfied: scikit-learn in c:\\users\\mokom\\appdata\\roaming\\python\\python36\\site-packages (from sklearn) (0.24.2)\n",
      "Requirement already satisfied: numpy>=1.13.3 in c:\\users\\mokom\\anaconda3\\envs\\data_science\\lib\\site-packages (from scikit-learn->sklearn) (1.18.5)\n",
      "Requirement already satisfied: threadpoolctl>=2.0.0 in c:\\users\\mokom\\anaconda3\\envs\\data_science\\lib\\site-packages (from scikit-learn->sklearn) (2.1.0)\n",
      "Requirement already satisfied: scipy>=0.19.1 in c:\\users\\mokom\\appdata\\roaming\\python\\python36\\site-packages (from scikit-learn->sklearn) (1.4.1)\n",
      "Requirement already satisfied: joblib>=0.11 in c:\\users\\mokom\\anaconda3\\envs\\data_science\\lib\\site-packages (from scikit-learn->sklearn) (0.16.0)\n"
     ]
    },
    {
     "name": "stderr",
     "output_type": "stream",
     "text": [
      "WARNING: Ignoring invalid distribution -ywin32 (c:\\users\\mokom\\anaconda3\\envs\\data_science\\lib\\site-packages)\n",
      "WARNING: Ignoring invalid distribution -ywin32 (c:\\users\\mokom\\anaconda3\\envs\\data_science\\lib\\site-packages)\n",
      "WARNING: Ignoring invalid distribution -ywin32 (c:\\users\\mokom\\anaconda3\\envs\\data_science\\lib\\site-packages)\n",
      "WARNING: Ignoring invalid distribution -ywin32 (c:\\users\\mokom\\anaconda3\\envs\\data_science\\lib\\site-packages)\n",
      "WARNING: Ignoring invalid distribution -ywin32 (c:\\users\\mokom\\anaconda3\\envs\\data_science\\lib\\site-packages)\n"
     ]
    }
   ],
   "source": [
    "!pip install mmsegmentation\n",
    "!pip install mmcv-full\n",
    "!pip install sklearn"
   ]
  },
  {
   "cell_type": "code",
   "execution_count": 30,
   "metadata": {},
   "outputs": [],
   "source": [
    "\n",
    "import cv2\n",
    "import numpy as np\n",
    "import random\n",
    "from pathlib import Path\n",
    "import matplotlib.pyplot as plt\n",
    "from mmseg.apis import init_segmentor, inference_segmentor\n",
    "from sklearn.manifold import TSNE\n",
    "import torchvision\n",
    "import mmcv"
   ]
  },
  {
   "cell_type": "code",
   "execution_count": 17,
   "metadata": {},
   "outputs": [],
   "source": [
    "\n",
    "config_file = 'https://github.com/open-mmlab/mmsegmentation/blob/master/configs/deeplabv3plus/deeplabv3plus_r50-d8_512x1024_40k_cityscapes.py'\n",
    "checkpoint_file = 'https://download.openmmlab.com/mmsegmentation/v0.5/deeplabv3plus/deeplabv3plus_r50-d8_512x1024_40k_cityscapes/deeplabv3plus_r50-d8_512x1024_40k_cityscapes_20200605_094610-d222ffcd.pth'"
   ]
  },
  {
   "cell_type": "code",
   "execution_count": 22,
   "metadata": {},
   "outputs": [
    {
     "name": "stdout",
     "output_type": "stream",
     "text": [
      "Requirement already satisfied: wget in c:\\users\\mokom\\anaconda3\\envs\\data_science\\lib\\site-packages (3.2)\n"
     ]
    },
    {
     "name": "stderr",
     "output_type": "stream",
     "text": [
      "WARNING: Ignoring invalid distribution -ywin32 (c:\\users\\mokom\\anaconda3\\envs\\data_science\\lib\\site-packages)\n",
      "WARNING: Ignoring invalid distribution -ywin32 (c:\\users\\mokom\\anaconda3\\envs\\data_science\\lib\\site-packages)\n",
      "WARNING: Ignoring invalid distribution -ywin32 (c:\\users\\mokom\\anaconda3\\envs\\data_science\\lib\\site-packages)\n",
      "WARNING: Ignoring invalid distribution -ywin32 (c:\\users\\mokom\\anaconda3\\envs\\data_science\\lib\\site-packages)\n",
      "WARNING: Ignoring invalid distribution -ywin32 (c:\\users\\mokom\\anaconda3\\envs\\data_science\\lib\\site-packages)\n"
     ]
    },
    {
     "name": "stdout",
     "output_type": "stream",
     "text": [
      "\n",
      "Saved under deeplabv3plus_r50-d8_512x1024_40k_cityscapes.py\n",
      "\n",
      "Saved under deeplabv3plus_r50-d8_512x1024_40k_cityscapes_20200605_094610-d222ffcd.pth\n"
     ]
    }
   ],
   "source": [
    "!pip install wget\n",
    "# google colaboで実行する場合は”wget $config_file”でOK\n",
    "!python -m wget $config_file\n",
    "!python -m wget $checkpoint_file"
   ]
  },
  {
   "cell_type": "code",
   "execution_count": 20,
   "metadata": {},
   "outputs": [
    {
     "ename": "SyntaxError",
     "evalue": "invalid syntax (<ipython-input-20-18f071420fbb>, line 1)",
     "output_type": "error",
     "traceback": [
      "\u001b[1;36m  File \u001b[1;32m\"<ipython-input-20-18f071420fbb>\"\u001b[1;36m, line \u001b[1;32m1\u001b[0m\n\u001b[1;33m    $model_root_path\u001b[0m\n\u001b[1;37m    ^\u001b[0m\n\u001b[1;31mSyntaxError\u001b[0m\u001b[1;31m:\u001b[0m invalid syntax\n"
     ]
    }
   ],
   "source": []
  },
  {
   "cell_type": "code",
   "execution_count": 34,
   "metadata": {},
   "outputs": [
    {
     "name": "stdout",
     "output_type": "stream",
     "text": [
      "norm_cfg\n",
      "{'type': 'BN', 'requires_grad': True}\n",
      "---------------\n",
      "model\n",
      "{'type': 'EncoderDecoder', 'pretrained': 'open-mmlab://resnet50_v1c', 'backbone': {'type': 'ResNetV1c', 'depth': 50, 'num_stages': 4, 'out_indices': (0, 1, 2, 3), 'dilations': (1, 1, 2, 4), 'strides': (1, 2, 1, 1), 'norm_cfg': {'type': 'SyncBN', 'requires_grad': True}, 'norm_eval': False, 'style': 'pytorch', 'contract_dilation': True}, 'decode_head': {'type': 'DepthwiseSeparableASPPHead', 'in_channels': 2048, 'in_index': 3, 'channels': 512, 'dilations': (1, 12, 24, 36), 'c1_in_channels': 256, 'c1_channels': 48, 'dropout_ratio': 0.1, 'num_classes': 19, 'norm_cfg': {'type': 'SyncBN', 'requires_grad': True}, 'align_corners': False, 'loss_decode': {'type': 'CrossEntropyLoss', 'use_sigmoid': False, 'loss_weight': 1.0}}, 'auxiliary_head': {'type': 'FCNHead', 'in_channels': 1024, 'in_index': 2, 'channels': 256, 'num_convs': 1, 'concat_input': False, 'dropout_ratio': 0.1, 'num_classes': 19, 'norm_cfg': {'type': 'SyncBN', 'requires_grad': True}, 'align_corners': False, 'loss_decode': {'type': 'CrossEntropyLoss', 'use_sigmoid': False, 'loss_weight': 0.4}}, 'train_cfg': {}, 'test_cfg': {'mode': 'whole'}}\n",
      "---------------\n",
      "dataset_type\n",
      "CityscapesDataset\n",
      "---------------\n",
      "data_root\n",
      "data/cityscapes/\n",
      "---------------\n",
      "img_norm_cfg\n",
      "{'mean': [123.675, 116.28, 103.53], 'std': [58.395, 57.12, 57.375], 'to_rgb': True}\n",
      "---------------\n",
      "crop_size\n",
      "(512, 1024)\n",
      "---------------\n",
      "train_pipeline\n",
      "[{'type': 'LoadImageFromFile'}, {'type': 'LoadAnnotations'}, {'type': 'Resize', 'img_scale': (2048, 1024), 'ratio_range': (0.5, 2.0)}, {'type': 'RandomCrop', 'crop_size': (512, 1024), 'cat_max_ratio': 0.75}, {'type': 'RandomFlip', 'prob': 0.5}, {'type': 'PhotoMetricDistortion'}, {'type': 'Normalize', 'mean': [123.675, 116.28, 103.53], 'std': [58.395, 57.12, 57.375], 'to_rgb': True}, {'type': 'Pad', 'size': (512, 1024), 'pad_val': 0, 'seg_pad_val': 255}, {'type': 'DefaultFormatBundle'}, {'type': 'Collect', 'keys': ['img', 'gt_semantic_seg']}]\n",
      "---------------\n",
      "test_pipeline\n",
      "[{'type': 'LoadImageFromFile'}, {'type': 'MultiScaleFlipAug', 'img_scale': (2048, 1024), 'flip': False, 'transforms': [{'type': 'Resize', 'keep_ratio': True}, {'type': 'RandomFlip'}, {'type': 'Normalize', 'mean': [123.675, 116.28, 103.53], 'std': [58.395, 57.12, 57.375], 'to_rgb': True}, {'type': 'ImageToTensor', 'keys': ['img']}, {'type': 'Collect', 'keys': ['img']}]}]\n",
      "---------------\n",
      "data\n",
      "{'samples_per_gpu': 2, 'workers_per_gpu': 2, 'train': {'type': 'CityscapesDataset', 'data_root': 'data/cityscapes/', 'img_dir': 'leftImg8bit/train', 'ann_dir': 'gtFine/train', 'pipeline': [{'type': 'LoadImageFromFile'}, {'type': 'LoadAnnotations'}, {'type': 'Resize', 'img_scale': (2048, 1024), 'ratio_range': (0.5, 2.0)}, {'type': 'RandomCrop', 'crop_size': (512, 1024), 'cat_max_ratio': 0.75}, {'type': 'RandomFlip', 'prob': 0.5}, {'type': 'PhotoMetricDistortion'}, {'type': 'Normalize', 'mean': [123.675, 116.28, 103.53], 'std': [58.395, 57.12, 57.375], 'to_rgb': True}, {'type': 'Pad', 'size': (512, 1024), 'pad_val': 0, 'seg_pad_val': 255}, {'type': 'DefaultFormatBundle'}, {'type': 'Collect', 'keys': ['img', 'gt_semantic_seg']}]}, 'val': {'type': 'CityscapesDataset', 'data_root': 'data/cityscapes/', 'img_dir': 'leftImg8bit/val', 'ann_dir': 'gtFine/val', 'pipeline': [{'type': 'LoadImageFromFile'}, {'type': 'MultiScaleFlipAug', 'img_scale': (2048, 1024), 'flip': False, 'transforms': [{'type': 'Resize', 'keep_ratio': True}, {'type': 'RandomFlip'}, {'type': 'Normalize', 'mean': [123.675, 116.28, 103.53], 'std': [58.395, 57.12, 57.375], 'to_rgb': True}, {'type': 'ImageToTensor', 'keys': ['img']}, {'type': 'Collect', 'keys': ['img']}]}]}, 'test': {'type': 'CityscapesDataset', 'data_root': 'data/cityscapes/', 'img_dir': 'leftImg8bit/val', 'ann_dir': 'gtFine/val', 'pipeline': [{'type': 'LoadImageFromFile'}, {'type': 'MultiScaleFlipAug', 'img_scale': (2048, 1024), 'flip': False, 'transforms': [{'type': 'Resize', 'keep_ratio': True}, {'type': 'RandomFlip'}, {'type': 'Normalize', 'mean': [123.675, 116.28, 103.53], 'std': [58.395, 57.12, 57.375], 'to_rgb': True}, {'type': 'ImageToTensor', 'keys': ['img']}, {'type': 'Collect', 'keys': ['img']}]}]}}\n",
      "---------------\n",
      "log_config\n",
      "{'interval': 50, 'hooks': [{'type': 'TextLoggerHook', 'by_epoch': False}]}\n",
      "---------------\n",
      "dist_params\n",
      "{'backend': 'nccl'}\n",
      "---------------\n",
      "log_level\n",
      "INFO\n",
      "---------------\n",
      "load_from\n",
      "None\n",
      "---------------\n",
      "resume_from\n",
      "None\n",
      "---------------\n",
      "workflow\n",
      "[('train', 1)]\n",
      "---------------\n",
      "cudnn_benchmark\n",
      "True\n",
      "---------------\n",
      "optimizer\n",
      "{'type': 'SGD', 'lr': 0.01, 'momentum': 0.9, 'weight_decay': 0.0005}\n",
      "---------------\n",
      "optimizer_config\n",
      "{}\n",
      "---------------\n",
      "lr_config\n",
      "{'policy': 'poly', 'power': 0.9, 'min_lr': 0.0001, 'by_epoch': False}\n",
      "---------------\n",
      "runner\n",
      "{'type': 'IterBasedRunner', 'max_iters': 40000}\n",
      "---------------\n",
      "checkpoint_config\n",
      "{'by_epoch': False, 'interval': 4000}\n",
      "---------------\n",
      "evaluation\n",
      "{'interval': 4000, 'metric': 'mIoU', 'pre_eval': True}\n",
      "---------------\n"
     ]
    }
   ],
   "source": [
    "for key, val in config.items():\n",
    "    print(key)\n",
    "    print(val)\n",
    "    print('---------------')"
   ]
  },
  {
   "cell_type": "code",
   "execution_count": 40,
   "metadata": {},
   "outputs": [
    {
     "name": "stderr",
     "output_type": "stream",
     "text": [
      "c:\\Users\\mokom\\Anaconda3\\envs\\data_science\\lib\\site-packages\\mmseg\\models\\losses\\cross_entropy_loss.py:236: UserWarning: Default ``avg_non_ignore`` is False, if you would like to ignore the certain label and average loss over non-ignore labels, which is the same with PyTorch official cross_entropy, set ``avg_non_ignore=True``.\n",
      "  'Default ``avg_non_ignore`` is False, if you would like to '\n"
     ]
    },
    {
     "name": "stdout",
     "output_type": "stream",
     "text": [
      "load checkpoint from local path: ./deeplabv3plus_r50-d8_512x1024_40k_cityscapes_20200605_094610-d222ffcd.pth\n"
     ]
    },
    {
     "name": "stderr",
     "output_type": "stream",
     "text": [
      "c:\\Users\\mokom\\Anaconda3\\envs\\data_science\\lib\\site-packages\\torch\\nn\\functional.py:718: UserWarning: Named tensors and all their associated APIs are an experimental feature and subject to change. Please do not use them for anything important until they are released as stable. (Triggered internally at  ..\\c10/core/TensorImpl.h:1156.)\n",
      "  return torch.max_pool2d(input, kernel_size, stride, padding, dilation, ceil_mode)\n"
     ]
    }
   ],
   "source": [
    "mmseg_path = Path('../../mmsegmentation')\n",
    "config_file_path = mmseg_path / 'configs/deeplabv3plus/deeplabv3plus_r50-d8_512x1024_40k_cityscapes.py'\n",
    "checkpoint_file_path = './deeplabv3plus_r50-d8_512x1024_40k_cityscapes_20200605_094610-d222ffcd.pth'\n",
    "cfg = mmcv.Config.fromfile(config_file_path)\n",
    "\n",
    "# avoid TypeError: init_segmentor() got an unexpected keyword argument 'norm_cfg'\n",
    "cfg.norm_cfg = dict(type='BN', requires_grad=True)\n",
    "cfg.model.backbone.norm_cfg = cfg.norm_cfg\n",
    "cfg.model.decode_head.norm_cfg = cfg.norm_cfg\n",
    "cfg.model.auxiliary_head.norm_cfg = cfg.norm_cfg\n",
    "model = init_segmentor(cfg, checkpoint_file_path, device='cpu')\n",
    "\n",
    "img = 'test.JPEG'\n",
    "result = inference_segmentor(model, img)\n",
    "model.show_result(img, result, show=True)"
   ]
  },
  {
   "cell_type": "code",
   "execution_count": 55,
   "metadata": {},
   "outputs": [],
   "source": [
    "def middle_layer_output(target, inputs):\n",
    "    feature = None\n",
    "\n",
    "    def forward_hook(module, inputs, outputs):\n",
    "        global features\n",
    "        features = outputs.detach().clone()\n",
    "\n",
    "    handle = target.register_forward_hook(forward_hook)\n",
    "    model.eval()\n",
    "    inference_segmentor(model, inputs)\n",
    "    handle.remove()\n",
    "    return features"
   ]
  },
  {
   "cell_type": "code",
   "execution_count": 56,
   "metadata": {},
   "outputs": [
    {
     "data": {
      "text/plain": [
       "tensor([[[[ 0.0413,  0.0282,  0.0322,  ...,  0.0251,  0.0164,  0.0279],\n",
       "          [ 0.0436,  0.0229,  0.0365,  ...,  0.0221,  0.0101,  0.0261],\n",
       "          [ 0.0401,  0.0246,  0.0351,  ...,  0.0294,  0.0168,  0.0293],\n",
       "          ...,\n",
       "          [ 0.0241,  0.0201,  0.0254,  ...,  0.0296,  0.0280,  0.0334],\n",
       "          [ 0.0261,  0.0204,  0.0220,  ...,  0.0323,  0.0271,  0.0309],\n",
       "          [ 0.0222,  0.0175,  0.0217,  ...,  0.0259,  0.0178,  0.0254]],\n",
       "\n",
       "         [[ 0.0320,  0.0264,  0.0326,  ...,  0.0314,  0.0302,  0.0330],\n",
       "          [ 0.0340,  0.0345,  0.0351,  ...,  0.0264,  0.0272,  0.0288],\n",
       "          [ 0.0342,  0.0298,  0.0356,  ...,  0.0284,  0.0292,  0.0278],\n",
       "          ...,\n",
       "          [ 0.0357,  0.0351,  0.0384,  ...,  0.0469,  0.0461,  0.0438],\n",
       "          [ 0.0382,  0.0344,  0.0373,  ...,  0.0335,  0.0359,  0.0351],\n",
       "          [ 0.0383,  0.0380,  0.0399,  ...,  0.0337,  0.0380,  0.0346]],\n",
       "\n",
       "         [[ 0.0437,  0.0390,  0.0484,  ...,  0.0461,  0.0375,  0.0451],\n",
       "          [ 0.0562,  0.0455,  0.0515,  ...,  0.0436,  0.0392,  0.0488],\n",
       "          [ 0.0502,  0.0427,  0.0483,  ...,  0.0456,  0.0455,  0.0518],\n",
       "          ...,\n",
       "          [ 0.0383,  0.0344,  0.0381,  ...,  0.0463,  0.0459,  0.0538],\n",
       "          [ 0.0343,  0.0349,  0.0373,  ...,  0.0448,  0.0445,  0.0483],\n",
       "          [ 0.0336,  0.0343,  0.0380,  ...,  0.0429,  0.0376,  0.0494]],\n",
       "\n",
       "         ...,\n",
       "\n",
       "         [[ 0.0727,  0.0519,  0.0711,  ...,  0.0592,  0.0526,  0.0617],\n",
       "          [ 0.0773,  0.0331,  0.0716,  ...,  0.0533,  0.0442,  0.0593],\n",
       "          [ 0.0741,  0.0609,  0.0726,  ...,  0.0629,  0.0574,  0.0636],\n",
       "          ...,\n",
       "          [ 0.0651,  0.0559,  0.0641,  ...,  0.0867,  0.0819,  0.0826],\n",
       "          [ 0.0647,  0.0585,  0.0674,  ...,  0.0818,  0.0779,  0.0787],\n",
       "          [ 0.0507,  0.0543,  0.0608,  ...,  0.0815,  0.0715,  0.0756]],\n",
       "\n",
       "         [[-0.0266, -0.0219, -0.0224,  ..., -0.0137, -0.0121, -0.0191],\n",
       "          [-0.0361, -0.0225, -0.0318,  ..., -0.0114, -0.0050, -0.0220],\n",
       "          [-0.0335, -0.0201, -0.0348,  ..., -0.0159, -0.0053, -0.0199],\n",
       "          ...,\n",
       "          [-0.0223, -0.0249, -0.0245,  ..., -0.0271, -0.0297, -0.0244],\n",
       "          [-0.0341, -0.0261, -0.0322,  ..., -0.0267, -0.0290, -0.0228],\n",
       "          [-0.0241, -0.0307, -0.0331,  ..., -0.0339, -0.0276, -0.0280]],\n",
       "\n",
       "         [[ 0.0243,  0.0265,  0.0254,  ...,  0.0265,  0.0308,  0.0221],\n",
       "          [ 0.0220,  0.0310,  0.0202,  ...,  0.0225,  0.0269,  0.0240],\n",
       "          [ 0.0272,  0.0300,  0.0304,  ...,  0.0292,  0.0352,  0.0228],\n",
       "          ...,\n",
       "          [ 0.0445,  0.0278,  0.0367,  ...,  0.0499,  0.0502,  0.0580],\n",
       "          [ 0.0328,  0.0283,  0.0328,  ...,  0.0508,  0.0442,  0.0541],\n",
       "          [ 0.0395,  0.0345,  0.0434,  ...,  0.0476,  0.0466,  0.0513]]]])"
      ]
     },
     "execution_count": 56,
     "metadata": {},
     "output_type": "execute_result"
    }
   ],
   "source": [
    "target = model.backbone.layer4[-1].conv3\n",
    "middle_layer_output(target, img)"
   ]
  },
  {
   "cell_type": "code",
   "execution_count": null,
   "metadata": {},
   "outputs": [],
   "source": []
  }
 ],
 "metadata": {
  "kernelspec": {
   "display_name": "Python 3.6.8 ('data_science')",
   "language": "python",
   "name": "python3"
  },
  "language_info": {
   "codemirror_mode": {
    "name": "ipython",
    "version": 3
   },
   "file_extension": ".py",
   "mimetype": "text/x-python",
   "name": "python",
   "nbconvert_exporter": "python",
   "pygments_lexer": "ipython3",
   "version": "3.6.8"
  },
  "orig_nbformat": 4,
  "vscode": {
   "interpreter": {
    "hash": "8d0aa325ff8773435e7ab7c54a59a079ef2b68ca3ca76697040221ff50f8c1a5"
   }
  }
 },
 "nbformat": 4,
 "nbformat_minor": 2
}
